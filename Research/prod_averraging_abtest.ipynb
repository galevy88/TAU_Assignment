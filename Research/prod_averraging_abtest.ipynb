{
 "cells": [
  {
   "cell_type": "code",
   "execution_count": 1,
   "id": "initial_id",
   "metadata": {
    "collapsed": true,
    "ExecuteTime": {
     "end_time": "2024-03-08T19:18:04.804593Z",
     "start_time": "2024-03-08T19:18:04.773585Z"
    }
   },
   "outputs": [],
   "source": [
    "import nibabel as nib\n",
    "\n",
    "md_path = 'Sub2_MD.nii'\n",
    "atlas_path = 'Sub2_AtlasBNA.nii'\n",
    "\n",
    "md_img = nib.load(md_path)\n",
    "atlas_img = nib.load(atlas_path)\n",
    "\n",
    "md_data = md_img.get_fdata()\n",
    "atlas_data = atlas_img.get_fdata()\n"
   ]
  },
  {
   "cell_type": "code",
   "execution_count": 2,
   "outputs": [],
   "source": [
    "import numpy as np\n",
    "\n",
    "\n",
    "def mean_of_non_zero_neighbors(md_data, atlas_data, x, y, z):\n",
    "\n",
    "    neighbor_values = []\n",
    "    \n",
    "\n",
    "    for i in range(max(0, x-1), min(md_data.shape[0], x+2)):\n",
    "        for j in range(max(0, y-1), min(md_data.shape[1], y+2)):\n",
    "            for k in range(max(0, z-1), min(md_data.shape[2], z+2)):\n",
    "\n",
    "                if (i, j, k) != (x, y, z) and atlas_data[i, j, k] != 0:\n",
    "                    neighbor_values.append(md_data[i, j, k])\n",
    "    \n",
    "\n",
    "    if neighbor_values:\n",
    "        return np.mean(neighbor_values)\n",
    "    else:\n",
    "        return md_data[x, y, z] \n",
    "\n",
    "\n",
    "md_data_adjusted = np.copy(md_data)\n",
    "\n",
    "\n",
    "for x in range(md_data.shape[0]):\n",
    "    for y in range(md_data.shape[1]):\n",
    "        for z in range(md_data.shape[2]):\n",
    "\n",
    "            if atlas_data[x, y, z] != 0:\n",
    "                md_data_adjusted[x, y, z] = mean_of_non_zero_neighbors(md_data, atlas_data, x, y, z)\n"
   ],
   "metadata": {
    "collapsed": false,
    "ExecuteTime": {
     "end_time": "2024-03-08T19:18:14.833189Z",
     "start_time": "2024-03-08T19:18:06.314020Z"
    }
   },
   "id": "8bca0bb85926d30f"
  },
  {
   "cell_type": "code",
   "execution_count": 3,
   "outputs": [
    {
     "name": "stdout",
     "output_type": "stream",
     "text": [
      "Mean Original MD Values: 0.00017184854368577245\n",
      "Mean Transformed MD Values: 0.00017189893330785152\n",
      "T-statistic: -0.1749414444630061, P-value: 0.8611256513425116\n"
     ]
    }
   ],
   "source": [
    "from scipy import stats\n",
    "\n",
    "original_md_flat = md_data.flatten()\n",
    "transformed_md_flat = md_data_adjusted.flatten()\n",
    "\n",
    "\n",
    "mean_original = np.mean(original_md_flat)\n",
    "mean_transformed = np.mean(transformed_md_flat)\n",
    "\n",
    "\n",
    "t_stat, p_value = stats.ttest_ind(original_md_flat, transformed_md_flat, equal_var=False)\n",
    "\n",
    "print(f\"Mean Original MD Values: {mean_original}\")\n",
    "print(f\"Mean Transformed MD Values: {mean_transformed}\")\n",
    "print(f\"T-statistic: {t_stat}, P-value: {p_value}\")\n"
   ],
   "metadata": {
    "collapsed": false,
    "ExecuteTime": {
     "end_time": "2024-03-08T19:18:16.479649Z",
     "start_time": "2024-03-08T19:18:16.448726Z"
    }
   },
   "id": "95c9b2ea8d4000f3"
  }
 ],
 "metadata": {
  "kernelspec": {
   "display_name": "Python 3",
   "language": "python",
   "name": "python3"
  },
  "language_info": {
   "codemirror_mode": {
    "name": "ipython",
    "version": 2
   },
   "file_extension": ".py",
   "mimetype": "text/x-python",
   "name": "python",
   "nbconvert_exporter": "python",
   "pygments_lexer": "ipython2",
   "version": "2.7.6"
  }
 },
 "nbformat": 4,
 "nbformat_minor": 5
}
